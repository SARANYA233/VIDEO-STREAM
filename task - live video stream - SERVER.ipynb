{
 "cells": [
  {
   "cell_type": "code",
   "execution_count": null,
   "metadata": {
    "scrolled": true
   },
   "outputs": [
    {
     "name": "stdout",
     "output_type": "stream",
     "text": [
      "HOST IP: 169.254.72.59\n",
      "LISTENING AT: ('169.254.72.59', 10050)\n",
      "GOT CONNECTION FROM: ('169.254.72.59', 50094)\n"
     ]
    }
   ],
   "source": [
    "# SERVER \n",
    "\n",
    "import socket, cv2, pickle,struct,imutils\n",
    "# Socket Create\n",
    "server_socket = socket.socket(socket.AF_INET,socket.SOCK_STREAM)\n",
    "host_name  = socket.gethostname()\n",
    "host_ip = socket.gethostbyname(host_name)\n",
    "print('HOST IP:',host_ip)\n",
    "port = 10050\n",
    "socket_address = (host_ip,port)\n",
    "\n",
    "# Socket Bind\n",
    "server_socket.bind(socket_address)\n",
    "\n",
    "# Socket Listen\n",
    "server_socket.listen(5)\n",
    "print(\"LISTENING AT:\",socket_address)\n",
    "\n",
    "# Socket Accept\n",
    "while True:\n",
    "    client_socket,addr = server_socket.accept()\n",
    "    print('GOT CONNECTION FROM:',addr)\n",
    "    if client_socket:\n",
    "        cap = cv2.VideoCapture(0)\n",
    "\n",
    "        while(cap.isOpened()):\n",
    "            ret,vdo = cap.read()\n",
    "            vdo = imutils.resize(vdo,width=320)\n",
    "            a = pickle.dumps(vdo)\n",
    "            message = struct.pack(\"Q\",len(a))+a\n",
    "            \n",
    "            # Socket client\n",
    "            client_socket.sendall(message)\n",
    "            cv2.imshow('TRANSMITTING VIDEO',vdo)\n",
    "            key = cv2.waitKey(1) & 0xFF\n",
    "           \n",
    "            # Close client\n",
    "            if key ==ord('q'):\n",
    "                client_socket.close()\n",
    "cv2.destroyAllWindows()"
   ]
  },
  {
   "cell_type": "code",
   "execution_count": null,
   "metadata": {},
   "outputs": [],
   "source": []
  },
  {
   "cell_type": "code",
   "execution_count": null,
   "metadata": {},
   "outputs": [],
   "source": []
  },
  {
   "cell_type": "code",
   "execution_count": null,
   "metadata": {},
   "outputs": [],
   "source": []
  }
 ],
 "metadata": {
  "kernelspec": {
   "display_name": "Python 3",
   "language": "python",
   "name": "python3"
  },
  "language_info": {
   "codemirror_mode": {
    "name": "ipython",
    "version": 3
   },
   "file_extension": ".py",
   "mimetype": "text/x-python",
   "name": "python",
   "nbconvert_exporter": "python",
   "pygments_lexer": "ipython3",
   "version": "3.8.3"
  }
 },
 "nbformat": 4,
 "nbformat_minor": 4
}
